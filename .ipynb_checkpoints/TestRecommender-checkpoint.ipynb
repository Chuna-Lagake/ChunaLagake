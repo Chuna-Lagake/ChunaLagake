{
 "cells": [
  {
   "cell_type": "code",
   "execution_count": 23,
   "metadata": {},
   "outputs": [],
   "source": [
    "import os, csv, json\n",
    "from itertools import islice\n",
    "from lightfm import LightFM\n",
    "from lightfm.data import Dataset\n",
    "from chuna_lagake.models import Menu, User, Ratings"
   ]
  },
  {
   "cell_type": "code",
   "execution_count": 24,
   "metadata": {},
   "outputs": [],
   "source": [
    "menu, users, items, ratings, user_recommend = [], [], [], [], []\n",
    "\n",
    "paan_features = ['Banaras','Calcutta','Maghai','Sada','Meetha','Chocolate','Dry Fruit','Mango','Strawberry','Pineapple','Gold',\n",
    " 'Kaju','Jelly','Rose','Shahi','Kesar','Vanilla','Masala','Khatta','Orange','White','Silver','RaatRani','Nutella','Special']\n",
    "\n",
    "for i in range(Menu.query.count()):\n",
    "    menu_item = Menu.query.filter_by(id='{}'.format(i+1)).first()\n",
    "    menu.append([menu_item.id, menu_item.name, menu_item.features])"
   ]
  },
  {
   "cell_type": "code",
   "execution_count": 25,
   "metadata": {},
   "outputs": [],
   "source": [
    "# menu[:1]"
   ]
  },
  {
   "cell_type": "code",
   "execution_count": 26,
   "metadata": {},
   "outputs": [],
   "source": [
    "def get_data():\n",
    "    # user data\n",
    "    for i in range(User.query.count()):\n",
    "        user_dict = {}\n",
    "        user_data = User.query.filter_by(id='{}'.format(i+1)).first()\n",
    "        user_dict.update({\"User_ID\":user_data.id, \"username\":user_data.username})\n",
    "        users.append(user_dict)\n",
    "    \n",
    "    # item data\n",
    "    for item in menu:\n",
    "        item_dict = {}\n",
    "        item_dict.update({\"Item_ID\":item[0], \"Item_Name\":item[1]})\n",
    "        for i in range(25):\n",
    "            item_dict.update({paan_features[i]:item[2][i]})\n",
    "        items.append(item_dict)\n",
    "        \n",
    "    # Rating Data\n",
    "    user_flag = 0\n",
    "    for i in range(Ratings.query.count()):\n",
    "        rating_dict = {}\n",
    "        rating = Ratings.query.filter_by(id='{}'.format(i+1)).first()\n",
    "        rating_dict.update({\"User_ID\":rating.user_id, \"Item_ID\":rating.item_id, \"Rating\":rating.rating})\n",
    "        if rating.user_id not in user_recommend:\n",
    "            user_recommend.append(rating.user_id)\n",
    "            rating_dict.update({\"Recommend_ID\":user_flag})\n",
    "            user_flag += 1\n",
    "        else:\n",
    "            rating_dict.update({\"Recommend_ID\":user_recommend.index(rating.user_id)})\n",
    "        ratings.append(rating_dict)\n",
    "    \n",
    "    return users, items, ratings\n",
    "\n",
    "def get_user_features():\n",
    "    return get_data()[0]\n",
    "    \n",
    "def get_item_features():\n",
    "    return get_data()[1]\n",
    "\n",
    "def get_ratings():\n",
    "    return  get_data()[2]"
   ]
  },
  {
   "cell_type": "code",
   "execution_count": 27,
   "metadata": {},
   "outputs": [],
   "source": [
    "user_features, item_features_names, ratings = get_data()"
   ]
  },
  {
   "cell_type": "code",
   "execution_count": null,
   "metadata": {},
   "outputs": [],
   "source": []
  },
  {
   "cell_type": "markdown",
   "metadata": {},
   "source": [
    "# Visualize the dataset"
   ]
  },
  {
   "cell_type": "code",
   "execution_count": 28,
   "metadata": {},
   "outputs": [
    {
     "name": "stdout",
     "output_type": "stream",
     "text": [
      "{\n",
      "    \"User_ID\": 1,\n",
      "    \"username\": \"mahesh\"\n",
      "}\n",
      "{\n",
      "    \"User_ID\": 2,\n",
      "    \"username\": \"nila\"\n",
      "}\n"
     ]
    }
   ],
   "source": [
    "for i in islice(user_features, 2):\n",
    "    print(json.dumps(i, indent=4))"
   ]
  },
  {
   "cell_type": "code",
   "execution_count": 29,
   "metadata": {},
   "outputs": [
    {
     "name": "stdout",
     "output_type": "stream",
     "text": [
      "{\n",
      "    \"Item_ID\": 1,\n",
      "    \"Item_Name\": \"Banaras Sada Paan\",\n",
      "    \"Banaras\": 1.0,\n",
      "    \"Calcutta\": 0.0,\n",
      "    \"Maghai\": 0.0,\n",
      "    \"Sada\": 1.0,\n",
      "    \"Meetha\": 0.0,\n",
      "    \"Chocolate\": 0.0,\n",
      "    \"Dry Fruit\": 0.0,\n",
      "    \"Mango\": 0.0,\n",
      "    \"Strawberry\": 0.0,\n",
      "    \"Pineapple\": 0.0,\n",
      "    \"Gold\": 0.0,\n",
      "    \"Kaju\": 0.0,\n",
      "    \"Jelly\": 0.0,\n",
      "    \"Rose\": 0.0,\n",
      "    \"Shahi\": 0.0,\n",
      "    \"Kesar\": 0.0,\n",
      "    \"Vanilla\": 0.0,\n",
      "    \"Masala\": 1.0,\n",
      "    \"Khatta\": 1.0,\n",
      "    \"Orange\": 0.0,\n",
      "    \"White\": 0.0,\n",
      "    \"Silver\": 0.0,\n",
      "    \"RaatRani\": 0.0,\n",
      "    \"Nutella\": 0.0,\n",
      "    \"Special\": 0.0\n",
      "}\n"
     ]
    }
   ],
   "source": [
    "for i in islice(item_features_names, 1):\n",
    "    print(json.dumps(i, indent=4))"
   ]
  },
  {
   "cell_type": "code",
   "execution_count": 30,
   "metadata": {},
   "outputs": [
    {
     "name": "stdout",
     "output_type": "stream",
     "text": [
      "{\n",
      "    \"User_ID\": 1,\n",
      "    \"Item_ID\": 5,\n",
      "    \"Rating\": 4.0,\n",
      "    \"Recommend_ID\": 0\n",
      "}\n"
     ]
    }
   ],
   "source": [
    "for i in islice(ratings, 1):\n",
    "    print(json.dumps(i, indent=4))"
   ]
  },
  {
   "cell_type": "markdown",
   "metadata": {},
   "source": [
    "# Build Model"
   ]
  },
  {
   "cell_type": "code",
   "execution_count": 31,
   "metadata": {},
   "outputs": [],
   "source": [
    "from lightfm.data import Dataset\n",
    "\n",
    "dataset = Dataset()\n",
    "dataset.fit((x['User_ID'] for x in get_ratings()),\n",
    "            (x['Item_ID'] for x in get_ratings()))"
   ]
  },
  {
   "cell_type": "code",
   "execution_count": 32,
   "metadata": {
    "scrolled": true
   },
   "outputs": [
    {
     "name": "stdout",
     "output_type": "stream",
     "text": [
      "Num users: 2, num_items 9.\n"
     ]
    }
   ],
   "source": [
    "num_users, num_items = dataset.interactions_shape()\n",
    "print('Num users: {}, num_items {}.'.format(num_users, num_items))"
   ]
  },
  {
   "cell_type": "code",
   "execution_count": 33,
   "metadata": {},
   "outputs": [],
   "source": [
    "def add_item_features(dataset, feature):\n",
    "    dataset.fit_partial(items=(x['Item_ID'] for x in get_item_features()),\n",
    "                    item_features=(x[feature] for x in get_item_features()))"
   ]
  },
  {
   "cell_type": "code",
   "execution_count": 34,
   "metadata": {},
   "outputs": [],
   "source": [
    "for i in range(25):\n",
    "    add_item_features(dataset, paan_features[i])"
   ]
  },
  {
   "cell_type": "code",
   "execution_count": 35,
   "metadata": {},
   "outputs": [
    {
     "name": "stdout",
     "output_type": "stream",
     "text": [
      "<2x50 sparse matrix of type '<class 'numpy.int32'>'\n",
      "\twith 540 stored elements in COOrdinate format>\n"
     ]
    }
   ],
   "source": [
    "(interactions, weights) = dataset.build_interactions(((x['User_ID'], x['Item_ID'])\n",
    "                                                      for x in get_ratings()))\n",
    "\n",
    "print(repr(interactions))"
   ]
  },
  {
   "cell_type": "code",
   "execution_count": 36,
   "metadata": {},
   "outputs": [
    {
     "name": "stdout",
     "output_type": "stream",
     "text": [
      "<50x51 sparse matrix of type '<class 'numpy.float32'>'\n",
      "\twith 149 stored elements in Compressed Sparse Row format>\n"
     ]
    }
   ],
   "source": [
    "item_features = dataset.build_item_features(((x['Item_ID'], [x['Banaras'], x['Calcutta'], x['Maghai'], x['Sada'],\n",
    "                                            x['Meetha'], x['Chocolate'], x['Dry Fruit'], x['Mango'], x['Strawberry'],\n",
    "                                            x['Pineapple'], x['Kaju'], x['Jelly'], x['Rose'], x['Shahi'], x['Kesar'],\n",
    "                                            x['Vanilla'], x['Masala'], x['Khatta'], x['Orange'], x['White'], x['Silver'],\n",
    "                                            x['RaatRani'], x['Nutella'], x['Special'], x['Gold']])\n",
    "                                              for x in get_item_features()))\n",
    "print(repr(item_features))\n",
    "\n",
    "\n",
    "\n",
    "# paan_features = ['Banaras','Calcutta','Maghai','Sada','Meetha','Chocolate','Dry Fruit','Mango','Strawberry','Pineapple','Gold',\n",
    "#  'Kaju','Jelly','Rose','Shahi','Kesar','Vanilla','Masala','Khatta','Orange','White','Silver','RaatRani','Nutella','Special']\n"
   ]
  },
  {
   "cell_type": "code",
   "execution_count": 37,
   "metadata": {},
   "outputs": [
    {
     "data": {
      "text/plain": [
       "<lightfm.lightfm.LightFM at 0x7fee50aa3e50>"
      ]
     },
     "execution_count": 37,
     "metadata": {},
     "output_type": "execute_result"
    }
   ],
   "source": [
    "from lightfm import LightFM\n",
    "\n",
    "model = LightFM(loss='bpr')\n",
    "model.fit(interactions, item_features=item_features)"
   ]
  },
  {
   "cell_type": "code",
   "execution_count": 38,
   "metadata": {},
   "outputs": [
    {
     "data": {
      "text/plain": [
       "(560,)"
      ]
     },
     "execution_count": 38,
     "metadata": {},
     "output_type": "execute_result"
    }
   ],
   "source": [
    "import numpy as np\n",
    "\n",
    "labels = np.array([x['Item_ID'] for x in get_ratings()])\n",
    "labels.shape"
   ]
  },
  {
   "cell_type": "code",
   "execution_count": 39,
   "metadata": {},
   "outputs": [
    {
     "name": "stdout",
     "output_type": "stream",
     "text": [
      "USER ID: 1\n",
      "   Known Positives:\n",
      "      Maghai Meetha Paan\n",
      "      Maghai Pineapple Paan\n",
      "      Maghai Golden Chocolate Paan\n",
      "      Banaras Meetha Paan\n",
      "      Banaras Sada Paan\n",
      "   Recommmended:\n",
      "      Maghai Strawberry Paan\n",
      "      Calcutta Rose Paan\n",
      "      Banaras Sada Paan\n",
      "USER ID: 2\n",
      "   Known Positives:\n",
      "      Banaras Sada Paan\n",
      "      Calcutta Sada Paan\n",
      "      Calcutta Meetha Paan\n",
      "      Maghai Strawberry Paan\n",
      "      Calcutta Rose Paan\n",
      "   Recommmended:\n",
      "      Calcutta Rose Paan\n",
      "      Maghai Strawberry Paan\n",
      "      Banaras Sada Paan\n"
     ]
    }
   ],
   "source": [
    "def sample_recommendation(model, data, user_ids):\n",
    "    n_users, n_items = data.shape\n",
    "    for user_id in user_ids:\n",
    "        known_positives = labels[data.tocsr()[user_id].indices]\n",
    "        \n",
    "        scores = model.predict(user_id, np.arange(n_items), item_features)\n",
    "        \n",
    "        top_items = labels[np.argsort(-scores)]\n",
    "        \n",
    "        print(\"USER ID: {}\".format(user_recommend[user_id]))\n",
    "        print(\"   Known Positives:\")\n",
    "        \n",
    "        for x in known_positives:\n",
    "            print(\"      {}\".format(item_features_names[x-1].get(\"Item_Name\")))\n",
    "#             print(\"    {}\".format(x))\n",
    "            \n",
    "        print(\"   Recommmended:\")\n",
    "        \n",
    "        for x in top_items[:3]:\n",
    "            print(\"      {}\".format(item_features_names[x-1].get(\"Item_Name\")))\n",
    "            \n",
    "            \n",
    "sample_recommendation(model, interactions, [0, 1])"
   ]
  },
  {
   "cell_type": "code",
   "execution_count": 19,
   "metadata": {},
   "outputs": [
    {
     "data": {
      "text/plain": [
       "'Maghai Rose Paan'"
      ]
     },
     "execution_count": 19,
     "metadata": {},
     "output_type": "execute_result"
    }
   ],
   "source": []
  },
  {
   "cell_type": "code",
   "execution_count": null,
   "metadata": {},
   "outputs": [],
   "source": []
  }
 ],
 "metadata": {
  "kernelspec": {
   "display_name": "Python 3",
   "language": "python",
   "name": "python3"
  },
  "language_info": {
   "codemirror_mode": {
    "name": "ipython",
    "version": 3
   },
   "file_extension": ".py",
   "mimetype": "text/x-python",
   "name": "python",
   "nbconvert_exporter": "python",
   "pygments_lexer": "ipython3",
   "version": "3.7.6"
  }
 },
 "nbformat": 4,
 "nbformat_minor": 4
}
