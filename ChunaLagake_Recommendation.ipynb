{
 "cells": [
  {
   "cell_type": "markdown",
   "metadata": {},
   "source": [
    "# @todo\n",
    "=== MAKE THE CONVERSION OF THE DATABASE ELEMENTS TO A DICTIONARY, MAINLY FOR THE MENU TABLE\n",
    "\n",
    "--- MAKE A SAMPLE RECOMMENDER USING THE PREVIOUS DATASET COLLECTED USING GOOGLE FORMS ON THE LINUX COMPUTER\n",
    "\n",
    "--- ADD NEW USERS TO DB AS SHOWN IN THE DATASET AND THEN IMPLEMENT THE RECOMMENDER SYSTEM THROUGH THE DATABASE ELEMENTS\n",
    "\n",
    "--- FINAL BUG CHECK AND NEW USER TEST\n",
    "\n",
    "---DEPLOYMENT"
   ]
  },
  {
   "cell_type": "code",
   "execution_count": 1,
   "metadata": {},
   "outputs": [],
   "source": [
    "from chuna_lagake import models, routes, forms, app, db\n",
    "from chuna_lagake.models import User, Menu, Ratings"
   ]
  },
  {
   "cell_type": "code",
   "execution_count": 2,
   "metadata": {},
   "outputs": [],
   "source": [
    "mahesh = User.query.filter_by(username='mahesh').first()"
   ]
  },
  {
   "cell_type": "code",
   "execution_count": 78,
   "metadata": {},
   "outputs": [],
   "source": [
    "menu = []\n",
    "for i in range(50):\n",
    "    item = Menu.query.filter_by(id='{}'.format(i+1)).first()\n",
    "    menu.append([item.id, item.name, item.features])\n",
    "# menu"
   ]
  },
  {
   "cell_type": "code",
   "execution_count": 32,
   "metadata": {},
   "outputs": [
    {
     "data": {
      "text/plain": [
       "[{'User_ID': 1, 'Name': 'mahesh'},\n",
       " {'User_ID': 2, 'Name': 'User2'},\n",
       " {'User_ID': 3, 'Name': 'user3'},\n",
       " {'User_ID': 4, 'Name': 'user4'},\n",
       " {'User_ID': 5, 'Name': 'user5'}]"
      ]
     },
     "execution_count": 32,
     "metadata": {},
     "output_type": "execute_result"
    }
   ],
   "source": [
    "# USER DATA\n",
    "user = []\n",
    "for i in range(User.query.count()):\n",
    "    user_dict = {}\n",
    "    User_Data = User.query.filter_by(id='{}'.format(i+1)).first()\n",
    "    user_dict.update({'User_ID':User_Data.id, 'Name':User_Data.username})\n",
    "    user.append(user_dict)\n",
    "user"
   ]
  },
  {
   "cell_type": "code",
   "execution_count": 24,
   "metadata": {},
   "outputs": [
    {
     "data": {
      "text/plain": [
       "[{'User_ID': 1, 'Item_ID': 2, 'Rating': 4.0},\n",
       " {'User_ID': 1, 'Item_ID': 12, 'Rating': 3.0}]"
      ]
     },
     "execution_count": 24,
     "metadata": {},
     "output_type": "execute_result"
    }
   ],
   "source": [
    "# RATINGS\n",
    "rating = []\n",
    "for i in range(Ratings.query.count()):\n",
    "    rating_dict = {}\n",
    "    Rating = Ratings.query.filter_by(id='{}'.format(i+1)).first()\n",
    "    rating_dict.update({'User_ID':Rating.user_id, 'Item_ID':Rating.item_id, 'Rating':Rating.rating})\n",
    "    rating.append(rating_dict)\n",
    "rating"
   ]
  },
  {
   "cell_type": "code",
   "execution_count": 6,
   "metadata": {},
   "outputs": [],
   "source": [
    "item_features = ['Banaras','Calcutta','Maghai','Sada','Meetha','Chocolate','Dry Fruit','Mango','Strawberry','Pineapple','Gold',\n",
    " 'Kaju','Jelly','Rose','Shahi','Kesar','Vanilla','Masala','Khatta','Orange','White','Silver','RaatRani','Nutella','Special']"
   ]
  },
  {
   "cell_type": "code",
   "execution_count": 21,
   "metadata": {},
   "outputs": [
    {
     "name": "stdout",
     "output_type": "stream",
     "text": [
      "{'Name': 'Banaras Sada Paan', 'Item_ID': 1, 'Banaras': 1.0, 'Calcutta': 0.0, 'Maghai': 0.0, 'Sada': 1.0, 'Meetha': 0.0, 'Chocolate': 0.0, 'Dry Fruit': 0.0, 'Mango': 0.0, 'Strawberry': 0.0, 'Pineapple': 0.0, 'Gold': 0.0, 'Kaju': 0.0, 'Jelly': 0.0, 'Rose': 0.0, 'Shahi': 0.0, 'Kesar': 0.0, 'Vanilla': 0.0, 'Masala': 1.0, 'Khatta': 1.0, 'Orange': 0.0, 'White': 0.0, 'Silver': 0.0, 'RaatRani': 0.0, 'Nutella': 0.0, 'Special': 0.0}\n"
     ]
    }
   ],
   "source": [
    "# ITEM_FEATURES\n",
    "items = []\n",
    "for item in menu:\n",
    "    item_dict = {}\n",
    "    item_dict.update({'Name':item[1], 'Item_ID':item[0]})\n",
    "    for i in range(25):\n",
    "        item_dict.update({item_features[i]:item[2][i]})\n",
    "    items.append(item_dict)\n",
    "print(items[0])"
   ]
  },
  {
   "cell_type": "code",
   "execution_count": 49,
   "metadata": {},
   "outputs": [],
   "source": [
    "# Create the Model\n",
    "from lightfm import LightFM\n",
    "from lightfm.data import Dataset\n",
    "\n",
    "dataset = Dataset()\n",
    "\n",
    "dataset.fit((x['User_ID'] for x in rating),\n",
    "           (x['Item_ID'] for x in rating))"
   ]
  },
  {
   "cell_type": "code",
   "execution_count": 50,
   "metadata": {},
   "outputs": [
    {
     "name": "stdout",
     "output_type": "stream",
     "text": [
      "Num Users: 1, Num Items: 2\n"
     ]
    }
   ],
   "source": [
    "num_users, num_items = dataset.interactions_shape()\n",
    "print(\"Num Users: {}, Num Items: {}\".format(num_users, num_items))"
   ]
  },
  {
   "cell_type": "code",
   "execution_count": 51,
   "metadata": {},
   "outputs": [],
   "source": [
    "dataset.fit_partial(items=(x['Item_ID'] for x in items),\n",
    "                   users=(x['User_ID'] for x in user))    "
   ]
  },
  {
   "cell_type": "code",
   "execution_count": 52,
   "metadata": {},
   "outputs": [],
   "source": [
    "def add_item_features(feature):\n",
    "    dataset.fit_partial(items=(x['Item_ID'] for x in items),\n",
    "                       item_features=(x[feature] for x in items))"
   ]
  },
  {
   "cell_type": "code",
   "execution_count": 53,
   "metadata": {},
   "outputs": [],
   "source": [
    "for feature in item_features:\n",
    "    add_item_features(feature)"
   ]
  },
  {
   "cell_type": "code",
   "execution_count": 54,
   "metadata": {},
   "outputs": [],
   "source": [
    "# Build interactions"
   ]
  },
  {
   "cell_type": "code",
   "execution_count": 55,
   "metadata": {},
   "outputs": [
    {
     "name": "stdout",
     "output_type": "stream",
     "text": [
      "<5x50 sparse matrix of type '<class 'numpy.int32'>'\n",
      "\twith 2 stored elements in COOrdinate format>\n"
     ]
    }
   ],
   "source": [
    "(interactions, weights) = dataset.build_interactions(((x['User_ID'], x['Item_ID']) for x in rating))\n",
    "print(repr(interactions))"
   ]
  },
  {
   "cell_type": "code",
   "execution_count": 79,
   "metadata": {},
   "outputs": [],
   "source": [
    "item_features = dataset.build_item_features(((x['Item_ID'],[x['Banaras'], x['Calcutta'], x['Maghai'], x['Sada'],\n",
    "                                              x['Meetha'], x['Chocolate'], x['Dry Fruit'], x['Mango'], x['Strawberry'],\n",
    "                                              x['Pineapple'], x['Gold'], x['Kaju'], x['Jelly'], x['Rose'], x['Shahi'],\n",
    "                                              x['Kesar'], x['Vanilla'], x['Masala'], x['Khatta'], x['Orange'], x['White'],\n",
    "                                              x['Silver'], x['Nutella'], x['RaatRani'], x['Special']]) for x in items))"
   ]
  },
  {
   "cell_type": "code",
   "execution_count": 61,
   "metadata": {},
   "outputs": [
    {
     "data": {
      "text/plain": [
       "<lightfm.lightfm.LightFM at 0x26aad627208>"
      ]
     },
     "execution_count": 61,
     "metadata": {},
     "output_type": "execute_result"
    }
   ],
   "source": [
    "model = LightFM(loss='warp')\n",
    "model.fit(interactions, item_features=item_features)"
   ]
  },
  {
   "cell_type": "code",
   "execution_count": 64,
   "metadata": {},
   "outputs": [
    {
     "data": {
      "text/plain": [
       "(50,)"
      ]
     },
     "execution_count": 64,
     "metadata": {},
     "output_type": "execute_result"
    }
   ],
   "source": [
    "import numpy as np\n",
    "labels = np.array([x['Name'] for x in items])\n",
    "labels.shape"
   ]
  },
  {
   "cell_type": "code",
   "execution_count": 75,
   "metadata": {},
   "outputs": [],
   "source": [
    "positives = []\n",
    "recommended = []\n",
    "def sample_recommendation(model, data, user_ids):\n",
    "    n_users, n_items = data.shape\n",
    "    \n",
    "    for user_id in user_ids:\n",
    "        known_positives = labels[data.tocsr()[user_id-1].indices]\n",
    "        scores = model.predict(user_id-1, np.arange(n_items))\n",
    "        top_items = labels[np.argsort(-scores)]\n",
    "        \n",
    "        print(\"User IDS: {}\".format(user_id))\n",
    "        print(\"------Known Positives:\")\n",
    "        \n",
    "        for x in known_positives[:3]:\n",
    "            positives.append(x)\n",
    "            print(\"--------{}\".format(x))\n",
    "            \n",
    "        print(\"\\n------Recommended:\")\n",
    "        for x in top_items[:3]:\n",
    "            recommended.append(x)\n",
    "            print(\"--------{}\".format(x))\n",
    "            \n",
    "        "
   ]
  },
  {
   "cell_type": "code",
   "execution_count": 76,
   "metadata": {},
   "outputs": [
    {
     "name": "stdout",
     "output_type": "stream",
     "text": [
      "User IDS: 1\n",
      "------Known Positives:\n",
      "--------Banaras Sada Paan\n",
      "--------Calcutta Sada Paan\n",
      "\n",
      "------Recommended:\n",
      "--------Banaras Meetha Paan\n",
      "--------Calcutta Sada Paan\n",
      "--------Banaras Sada Paan\n",
      "User IDS: 2\n",
      "------Known Positives:\n",
      "\n",
      "------Recommended:\n",
      "--------Banaras Meetha Paan\n",
      "--------Calcutta Sada Paan\n",
      "--------Calcutta Nutella Paan\n"
     ]
    }
   ],
   "source": [
    "sample_recommendation(model, interactions, [1, 2])"
   ]
  },
  {
   "cell_type": "code",
   "execution_count": null,
   "metadata": {},
   "outputs": [],
   "source": []
  },
  {
   "cell_type": "code",
   "execution_count": null,
   "metadata": {},
   "outputs": [],
   "source": []
  }
 ],
 "metadata": {
  "kernelspec": {
   "display_name": "Python 3",
   "language": "python",
   "name": "python3"
  },
  "language_info": {
   "codemirror_mode": {
    "name": "ipython",
    "version": 3
   },
   "file_extension": ".py",
   "mimetype": "text/x-python",
   "name": "python",
   "nbconvert_exporter": "python",
   "pygments_lexer": "ipython3",
   "version": "3.7.7"
  }
 },
 "nbformat": 4,
 "nbformat_minor": 4
}
